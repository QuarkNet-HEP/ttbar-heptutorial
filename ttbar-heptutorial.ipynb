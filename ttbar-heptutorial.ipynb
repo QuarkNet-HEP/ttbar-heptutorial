{
 "cells": [
  {
   "cell_type": "markdown",
   "metadata": {},
   "source": [
    "# $t\\bar{t}$ HEP tutorial\n",
    "\n",
    "https://ippog-test.web.cern.ch/resources/2012/cms-hep-tutorial\n",
    "\n",
    "Original authors:\n",
    "christian.sander@cern.ch,\n",
    "alexander.schmidt@cern.ch\n",
    "\n",
    "This notebook adaptation:\n",
    "thomas.mccauley@cern.ch"
   ]
  },
  {
   "cell_type": "markdown",
   "metadata": {},
   "source": [
    "<img src=\"graphics/semileptonic_ttbar.png\" width=60%></img>"
   ]
  },
  {
   "cell_type": "markdown",
   "metadata": {},
   "source": [
    "## Getting started"
   ]
  },
  {
   "cell_type": "code",
   "execution_count": 1,
   "metadata": {},
   "outputs": [],
   "source": [
    "# Stuff for running in Colab\n",
    "import sys, subprocess\n",
    "\n",
    "colab_requirements = [\n",
    "  'pip install uproot4==0.0.15',\n",
    "  'pip install awkward1==0.2.25',\n",
    "]\n",
    "\n",
    "def install_requirements(cmd):\n",
    "  process = subprocess.Popen(cmd.split(), stdout=subprocess.PIPE)\n",
    "  for line in process.stdout:\n",
    "    print(line.decode().strip())\n",
    "\n",
    "if 'google.colab' in sys.modules.keys():\n",
    "  for r in colab_requirements:\n",
    "    install_requirements(r)"
   ]
  },
  {
   "cell_type": "markdown",
   "metadata": {},
   "source": [
    "[Awkward array docs](https://awkward-array.readthedocs.io/en/latest/index.html)"
   ]
  },
  {
   "cell_type": "code",
   "execution_count": 2,
   "metadata": {},
   "outputs": [],
   "source": [
    "import uproot4\n",
    "import awkward1 as ak\n",
    "import numpy as np\n",
    "import matplotlib.pyplot as plt"
   ]
  },
  {
   "cell_type": "markdown",
   "metadata": {},
   "source": [
    "| Sample | Number of events | Comments |\n",
    "| :--- | :--- | :--- |\n",
    "| Data | 469384 | triggered on isolated Muons with pT > 24 GeV |\n",
    "| MC: TTbar | 36941 | generated with MadGraph; isoMuon24 trigger bit stored |\n",
    "| MC: W+jets | \t109737 | generated with MadGraph; triggered on simulated isolated Muons with pT > 24 GeV |\n",
    "| MC: Drell Yan | 77729 | generated with MadGraph; triggered on simulated isolated Muons with pT > 24 GeV |\n",
    "| MC: WW | 4580 |\tgenerated with Pythia; triggered on simulated isolated Muons with pT > 24 GeV |\n",
    "| MC: WZ | 3367 |\tgenerated with Pythia; triggered on simulated isolated Muons with pT > 24 GeV |\n",
    "| MC: ZZ | 2421 |\tgenerated with Pythia; triggered on simulated isolated Muons with pT > 24 GeV |\n",
    "| MC: single top | 5684 |\tgenerated with Powheg; triggered on simulated isolated Muons with pT > 24 GeV |\n",
    "| MC: QCD | 142 | \tgenerated with Pythia; triggered on simulated isolated Muons with pT > 24 GeV | "
   ]
  },
  {
   "cell_type": "markdown",
   "metadata": {},
   "source": [
    "* `NJet` (integer): number of jets in the event.\n",
    "\n",
    "* `Jet_Px[NJet]` (float): x-component of jet momentum. This is an array of size NJet, where a\n",
    "maximum of twenty jets are stored (NJet < 21). If there are more than twenty jets in the event,\n",
    "only the twenty most energetic are stored. Only jets with p T > 30 GeV are stored.\n",
    "\n",
    "* `Jet_Py[NJet]` (float): y-component of jet momentum, otherwise same as Jet_Px[NJet].\n",
    "\n",
    "* `Jet_Pz[NJet]` (float): z-component of jet momentum, otherwise same as Jet_Px[NJet].\n",
    "\n",
    "* `Jet_E[NJet]` (float): energy of the jet, otherwise same as Jet_Px[NJet]. Note that the four\n",
    "compoments Jet_Px, Jet_Py, Jet_Pz and Jet_E constitute a fourvector which fully describes\n",
    "the kinematics of a jet.\n",
    "\n",
    "* `Jet_btag[NJet]` (float): b-tagging discriminator. This quantity is obtained from an algorithm\n",
    "that identifies B-hadron decays within a jet. It is correlated with the lifetime of the B-hadron.\n",
    "Higher values indicate a higher probability that the jet originates from a b-quark. Important:\n",
    "The discriminator has small performance differences in data and simulation. To account for this,\n",
    "simulated events have to be reweighted by a factor of ∼ 0.9 per required b-tagged quark.\n",
    "\n",
    "* `Jet_ID[NJet]` (bool): Jet quality identifier to distiguish between real jets (induced by hadronic\n",
    "interactions) and detector noise. A good jet has true as value.\n",
    "\n",
    "* `NMuon` (integer): number of muons in the event.\n",
    "\n",
    "* `Muon_Px[NMuon]` (float): x-component of muon momentum. This is an array of size NMuon,\n",
    "where a maximum of five muons are stored (NMuon < 5). If there are more than five muons in\n",
    "the event, only the five most energetic are stored.\n",
    "\n",
    "* `Muon_Py[NMuon]` (float): y-component of muon momentum, otherwise same as Muon_Px[NMuon].\n",
    "\n",
    "* `Muon_Pz[NMuon]` (float): z-component of muon momentum, otherwise same as Muon_Px[NMuon].\n",
    "\n",
    "* `Muon_E[NMuon]` (float): energy of the muon, otherwise same as Muon_Px[NMuon]. Note that the\n",
    "four compoments Muon_Px, Muon_Py, Muon_Pz and Muon_E constitute a fourvector which fully\n",
    "describes the kinematics of a muon.\n",
    "\n",
    "* `Muon_Charge[NMuon]` (integer): charge of the muon. It is determined from the curvature in the\n",
    "magnetic field and has values +1 or -1.\n",
    "\n",
    "* `Muon_Iso[NMuon]` (float): muon isolation. This variable is a measure for the amount of detector\n",
    "activity around that muon. Muons within jets are accompanied by close-by tracks and deposits\n",
    "in the calorimeters, leading to a large values of Muon_Iso. On the other hand, muons from W\n",
    "bosons are isolated and have small values of Muon_Iso.\n",
    "\n",
    "* `NElectron` (integer): same as for muons above, but for electrons.\n",
    "\n",
    "* `Electron_Px[NElectron]` (float): same as for muons above, but for electrons.\n",
    "\n",
    "* `Electron_Py[NElectron]` (float): same as for muons above, but for electrons.\n",
    "\n",
    "* `Electron_Pz[NElectron]` (float): same as for muons above, but for electrons.\n",
    "\n",
    "* `Electron_E[NElectron]` (float): same as for muons above, but for electrons.\n",
    "\n",
    "* `Electron_Charge[NElectron]` (integer): same as for muons above, but for electrons.\n",
    "\n",
    "* `Electron_Iso[NElectron]` (float): same as for muons above, but for electrons.\n",
    "\n",
    "* `NPhoton` (integer): same as for muons above, but for photons.\n",
    "\n",
    "* `Phtoton_Px[NPhoton]` (float): same as for muons above, but for photons.\n",
    "\n",
    "* `Photon_Py[NPhoton]` (float): same as for muons above, but for photons.\n",
    "\n",
    "* `Photon_Pz[NPhoton]` (float): same as for muons above, but for photons.\n",
    "\n",
    "* `Photon_E[NPhoton]` (float): same as for muons above, but for photons.\n",
    "\n",
    "* `Photon_Iso[NPhoton]` (float): same as for muons above, but for photons.\n",
    "\n",
    "* `MET_px` (float): x-component of the missing energy. Due to the hermetic coverage of the LHC\n",
    "detectors and the negligible transverse boost of the initial state, the transverse momentum\n",
    "sum of all detector objects (jets, muons, etc...) must be zero. This is required by energy and\n",
    "momentum conservation. Objects which escape the detector, such as neutrinos, are causing a\n",
    "”missing” transverse energy which can be measured and associated to the neutrino.\n",
    "\n",
    "* `MET_py` (float): y-component of the missing energy.\n",
    "\n",
    "* `NPrimaryVertices` (integer): the number of proton-proton interaction vertices. Due to the high\n",
    "LHC luminosity several protons within one bunch crossing can collide. This is usually referred\n",
    "to as ”pileup”. The spread of these vertices is several centimeters in longitudinal direction and\n",
    "only micrometers in the transverse direction.\n",
    "\n",
    "* `triggerIsoMu24` (bool): the trigger bit. It is ”true” if the event is triggered and ”false” if the\n",
    "event is not triggered (data can only contain triggered events)."
   ]
  },
  {
   "cell_type": "markdown",
   "metadata": {},
   "source": [
    "* `MChadronicBottom_px` (float): x-compoment of the b-quark from the top decay belonging to\n",
    "the hadronic branch.\n",
    "\n",
    "* `MChadronicBottom_py` (float): y-compoment ...\n",
    "\n",
    "* `MChadronicBottom_pz` (float): z-compoment ...\n",
    "\n",
    "* `MChadronicWDecayQuark_px` (float): x-component of the quark from the hadronic W boson\n",
    "decay\n",
    "\n",
    "* `MChadronicWDecayQuark_py` (float): y-component ...\n",
    "\n",
    "* `MChadronicWDecayQuark_pz` (float): z-component ...\n",
    "\n",
    "* `MChadronicWDecayQuarkBar_px` (float): x-component of the anti-quark from the hadronic W\n",
    "boson decay\n",
    "\n",
    "* `MChadronicWDecayQuarkBar_py` (float): y-component ...\n",
    "\n",
    "* `MChadronicWDecayQuarkBar_pz` (float): z-component ...\n",
    "\n",
    "* `MCleptonicBottom_px` (float): x-compoment of the b-quark from the top decay belonging to\n",
    "the leptonic branch.\n",
    "\n",
    "* `MCleptonicBottom_py` (float): y-compoment ...\n",
    "\n",
    "* `MCleptonicBottom_pz` (float): z-compoment ...\n",
    "\n",
    "* `MClepton_px` (float): x-component of the lepton (electron, muon, tau) from the leptonic W\n",
    "boson decay.\n",
    "\n",
    "* `MClepton_py` (float): y-component ...\n",
    "\n",
    "* `MClepton_pz` (float): z-component ...\n",
    "\n",
    "* `MCleptonPDGid` (integer): particle “ID” of the lepton. Possible values are 11 for electrons, 13\n",
    "for muons, 15 for taus. Negative numbers indicate anti-particles.\n",
    "\n",
    "* `MCneutrino_px` (float): x-component of the neutrino from the leptonic W boson decay.\n",
    "\n",
    "* `MCneutrino_py` (float): y-component ...\n",
    "\n",
    "* `MCneutrino_pz` (float): z-component ...\n",
    "\n",
    "* `EventWeight` (float): weight factor to be applied to simulated events due to different sample\n",
    "sizes."
   ]
  },
  {
   "cell_type": "code",
   "execution_count": 3,
   "metadata": {},
   "outputs": [],
   "source": [
    "data = uproot4.open('./data/data.root:events')\n",
    "ttbar = uproot4.open('./data/ttbar.root:events')\n",
    "wjets = uproot4.open('./data/wjets.root:events')\n",
    "dy = uproot4.open('./data/dy.root:events')\n",
    "ww = uproot4.open('./data/ww.root:events')\n",
    "zz = uproot4.open('./data/zz.root:events')\n",
    "single_top = uproot4.open('./data/single_top.root:events')\n",
    "qcd = uproot4.open('data/qcd.root:events')"
   ]
  },
  {
   "cell_type": "code",
   "execution_count": 4,
   "metadata": {},
   "outputs": [
    {
     "name": "stdout",
     "output_type": "stream",
     "text": [
      "name                 | typename             | interpretation                    \n",
      "---------------------+----------------------+-----------------------------------\n",
      "NJet                 | int32_t              | AsDtype('>i4')                    \n",
      "Jet_Px               | float[]              | AsJagged(AsDtype('>f4'))          \n",
      "Jet_Py               | float[]              | AsJagged(AsDtype('>f4'))          \n",
      "Jet_Pz               | float[]              | AsJagged(AsDtype('>f4'))          \n",
      "Jet_E                | float[]              | AsJagged(AsDtype('>f4'))          \n",
      "Jet_btag             | float[]              | AsJagged(AsDtype('>f4'))          \n",
      "Jet_ID               | bool[]               | AsJagged(AsDtype('bool'))         \n",
      "NMuon                | int32_t              | AsDtype('>i4')                    \n",
      "Muon_Px              | float[]              | AsJagged(AsDtype('>f4'))          \n",
      "Muon_Py              | float[]              | AsJagged(AsDtype('>f4'))          \n",
      "Muon_Pz              | float[]              | AsJagged(AsDtype('>f4'))          \n",
      "Muon_E               | float[]              | AsJagged(AsDtype('>f4'))          \n",
      "Muon_Charge          | int32_t[]            | AsJagged(AsDtype('>i4'))          \n",
      "Muon_Iso             | float[]              | AsJagged(AsDtype('>f4'))          \n",
      "NElectron            | int32_t              | AsDtype('>i4')                    \n",
      "Electron_Px          | float[]              | AsJagged(AsDtype('>f4'))          \n",
      "Electron_Py          | float[]              | AsJagged(AsDtype('>f4'))          \n",
      "Electron_Pz          | float[]              | AsJagged(AsDtype('>f4'))          \n",
      "Electron_E           | float[]              | AsJagged(AsDtype('>f4'))          \n",
      "Electron_Charge      | int32_t[]            | AsJagged(AsDtype('>i4'))          \n",
      "Electron_Iso         | float[]              | AsJagged(AsDtype('>f4'))          \n",
      "NPhoton              | int32_t              | AsDtype('>i4')                    \n",
      "Photon_Px            | float[]              | AsJagged(AsDtype('>f4'))          \n",
      "Photon_Py            | float[]              | AsJagged(AsDtype('>f4'))          \n",
      "Photon_Pz            | float[]              | AsJagged(AsDtype('>f4'))          \n",
      "Photon_E             | float[]              | AsJagged(AsDtype('>f4'))          \n",
      "Photon_Iso           | float[]              | AsJagged(AsDtype('>f4'))          \n",
      "MET_px               | float                | AsDtype('>f4')                    \n",
      "MET_py               | float                | AsDtype('>f4')                    \n",
      "MChadronicBottom_px  | float                | AsDtype('>f4')                    \n",
      "MChadronicBottom_py  | float                | AsDtype('>f4')                    \n",
      "MChadronicBottom_pz  | float                | AsDtype('>f4')                    \n",
      "MCleptonicBottom_px  | float                | AsDtype('>f4')                    \n",
      "MCleptonicBottom_py  | float                | AsDtype('>f4')                    \n",
      "MCleptonicBottom_pz  | float                | AsDtype('>f4')                    \n",
      "MChadronicWDecayQuar | float                | AsDtype('>f4')                    \n",
      "MChadronicWDecayQuar | float                | AsDtype('>f4')                    \n",
      "MChadronicWDecayQuar | float                | AsDtype('>f4')                    \n",
      "MChadronicWDecayQuar | float                | AsDtype('>f4')                    \n",
      "MChadronicWDecayQuar | float                | AsDtype('>f4')                    \n",
      "MChadronicWDecayQuar | float                | AsDtype('>f4')                    \n",
      "MClepton_px          | float                | AsDtype('>f4')                    \n",
      "MClepton_py          | float                | AsDtype('>f4')                    \n",
      "MClepton_pz          | float                | AsDtype('>f4')                    \n",
      "MCleptonPDGid        | int32_t              | AsDtype('>i4')                    \n",
      "MCneutrino_px        | float                | AsDtype('>f4')                    \n",
      "MCneutrino_py        | float                | AsDtype('>f4')                    \n",
      "MCneutrino_pz        | float                | AsDtype('>f4')                    \n",
      "NPrimaryVertices     | int32_t              | AsDtype('>i4')                    \n",
      "triggerIsoMu24       | bool                 | AsDtype('bool')                   \n",
      "EventWeight          | float                | AsDtype('>f4')                    \n"
     ]
    }
   ],
   "source": [
    "data.show()"
   ]
  },
  {
   "cell_type": "markdown",
   "metadata": {},
   "source": [
    "## 1. Warmup\n",
    "\n",
    "The trigger for this tutorial selects events which contain one or more muons as discussed in the\n",
    "documentation and explanation."
   ]
  },
  {
   "cell_type": "markdown",
   "metadata": {},
   "source": [
    "* Find out how often there is more than one isolated, reconstructed muon in data (histogram of the muon multiplicity). Where could these additional muons come from?"
   ]
  },
  {
   "cell_type": "code",
   "execution_count": 5,
   "metadata": {},
   "outputs": [
    {
     "data": {
      "text/plain": [
       "469384 * {\"NJet\": int32, \"NMuon\": int32, \"NElectron\": int32, \"NPhoton\": int32, \"MET_px\": float32, \"MET_py\": float32, \"MChadronicBottom_px\": float32, \"MChadronicBottom_py\": float32, \"MChadronicBottom_pz\": float32, \"MCleptonicBottom_px\": float32, \"MCleptonicBottom_py\": float32, \"MCleptonicBottom_pz\": float32, \"MChadronicWDecayQuark_px\": float32, \"MChadronicWDecayQuark_py\": float32, \"MChadronicWDecayQuark_pz\": float32, \"MChadronicWDecayQuarkBar_px\": float32, \"MChadronicWDecayQuarkBar_py\": float32, \"MChadronicWDecayQuarkBar_pz\": float32, \"MClepton_px\": float32, \"MClepton_py\": float32, \"MClepton_pz\": float32, \"MCleptonPDGid\": int32, \"MCneutrino_px\": float32, \"MCneutrino_py\": float32, \"MCneutrino_pz\": float32, \"NPrimaryVertices\": int32, \"triggerIsoMu24\": bool, \"EventWeight\": float32, \"Jet\": var * {\"Px\": float32, \"Py\": float32, \"Pz\": float32, \"E\": float32, \"btag\": float32, \"ID\": bool}, \"Muon\": var * {\"Px\": float32, \"Py\": float32, \"Pz\": float32, \"E\": float32, \"Charge\": int32, \"Iso\": float32}, \"Electron\": var * {\"Px\": float32, \"Py\": float32, \"Pz\": float32, \"E\": float32, \"Charge\": int32, \"Iso\": float32}, \"Photon\": var * {\"Px\": float32, \"Py\": float32, \"Pz\": float32, \"E\": float32, \"Iso\": float32}}"
      ]
     },
     "execution_count": 5,
     "metadata": {},
     "output_type": "execute_result"
    }
   ],
   "source": [
    "data_events = data.arrays(library=\"ak\", how=\"zip\")\n",
    "ak.type(data_events)"
   ]
  },
  {
   "cell_type": "code",
   "execution_count": 6,
   "metadata": {},
   "outputs": [],
   "source": [
    "data_events['Muon', 'Pt'] = np.sqrt(\n",
    "    data_events.Muon.Px*data_events.Muon.Px +\n",
    "    data_events.Muon.Py*data_events.Muon.Py\n",
    ")"
   ]
  },
  {
   "cell_type": "code",
   "execution_count": 7,
   "metadata": {},
   "outputs": [
    {
     "data": {
      "text/plain": [
       "Text(0.5, 0, '# muons')"
      ]
     },
     "execution_count": 7,
     "metadata": {},
     "output_type": "execute_result"
    },
    {
     "data": {
      "image/png": "[encoded data removed]",
      "text/plain": [
       "<Figure size 432x288 with 1 Axes>"
      ]
     },
     "metadata": {
      "needs_background": "light"
     },
     "output_type": "display_data"
    }
   ],
   "source": [
    "n,b,_ = plt.hist(data_events.NMuon)\n",
    "plt.xlabel('# muons')"
   ]
  },
  {
   "cell_type": "code",
   "execution_count": 8,
   "metadata": {},
   "outputs": [
    {
     "data": {
      "text/plain": [
       "Text(0.5, 0, '# isolated muons')"
      ]
     },
     "execution_count": 8,
     "metadata": {},
     "output_type": "execute_result"
    },
    {
     "data": {
      "image/png": "[encoded data removed]",
      "text/plain": [
       "<Figure size 432x288 with 1 Axes>"
      ]
     },
     "metadata": {
      "needs_background": "light"
     },
     "output_type": "display_data"
    }
   ],
   "source": [
    "iso_muons = data_events[\n",
    "    ak.any((data_events.Muon.Iso / data_events.Muon.Pt < 0.10) & (data_events.Muon.Pt > 25), axis=1)\n",
    "]\n",
    "\n",
    "n,b,_ = plt.hist(iso_muons.NMuon)\n",
    "plt.xlabel('# isolated muons')"
   ]
  },
  {
   "cell_type": "markdown",
   "metadata": {},
   "source": [
    "* Calculate the invariant mass of two muons of opposite charge. Only use isolated muons.\n",
    "\n",
    "* Display the invariant mass distribution of two muons in a histogram (hint: try different axis ranges)."
   ]
  },
  {
   "cell_type": "code",
   "execution_count": 15,
   "metadata": {},
   "outputs": [
    {
     "data": {
      "text/plain": [
       "(60.0, 120.0)"
      ]
     },
     "execution_count": 15,
     "metadata": {},
     "output_type": "execute_result"
    },
    {
     "data": {
      "image/png": "[encoded data removed]",
      "text/plain": [
       "<Figure size 432x288 with 1 Axes>"
      ]
     },
     "metadata": {
      "needs_background": "light"
     },
     "output_type": "display_data"
    }
   ],
   "source": [
    "# There are 2 muons and both have pt > 25 GeV\n",
    "two_iso_muons = iso_muons[(iso_muons.NMuon == 2) & (ak.all(iso_muons.Muon.Pt > 25, axis=1))]\n",
    "\n",
    "two_iso_muons['M'] = [\n",
    "        np.sqrt(\n",
    "                (m.E[0]+m.E[1])**2 - \n",
    "                (m.Px[0]+m.Px[1])**2 - \n",
    "                (m.Py[0]+m.Py[1])**2 -\n",
    "                (m.Pz[0]+m.Pz[1])**2\n",
    "        ) for m in two_iso_muons.Muon\n",
    "]\n",
    "    \n",
    "    \n",
    "n,b,_ = plt.hist(two_iso_muons.M, bins=500, log=True, histtype='step')\n",
    "plt.xlabel('$M_{\\mu\\mu}$ [GeV]')\n",
    "plt.xlim([60, 120])"
   ]
  },
  {
   "cell_type": "markdown",
   "metadata": {},
   "source": [
    "* Compare your results to MC simulation (display simulation and data in the same histogram). Make sure you select triggered events only for the simulated samples."
   ]
  },
  {
   "cell_type": "code",
   "execution_count": 16,
   "metadata": {},
   "outputs": [],
   "source": [
    "mc = {\n",
    "    'tt': ttbar.arrays(library='ak', how='zip'),\n",
    "    'wjets': wjets.arrays(library='ak', how='zip'),\n",
    "    'dy': dy.arrays(library='ak', how='zip'),\n",
    "    'ww': ww.arrays(library='ak', how='zip'),\n",
    "    'zz': zz.arrays(library='ak', how='zip'),\n",
    "    'single_top': single_top.arrays(library='ak', how='zip'),\n",
    "    'qcd': qcd.arrays(library='ak', how='zip'),\n",
    "}\n",
    "\n",
    "colors = ['k', 'b', 'g', 'r', 'c', 'm', 'y']\n",
    "\n",
    "# Add pt and MET to MC\n",
    "for n in mc:\n",
    "    \n",
    "    mc[n]['Muon', 'Pt'] = np.sqrt(\n",
    "        mc[n].Muon.Px**2 + mc[n].Muon.Py**2\n",
    "    )\n",
    "    \n",
    "    mc[n]['MET'] = np.sqrt(\n",
    "        mc[n].MET_px**2 + mc[n].MET_py**2 \n",
    "    )"
   ]
  },
  {
   "cell_type": "code",
   "execution_count": 17,
   "metadata": {},
   "outputs": [
    {
     "data": {
      "text/plain": [
       "36941 * {\"NJet\": int32, \"NMuon\": int32, \"NElectron\": int32, \"NPhoton\": int32, \"MET_px\": float32, \"MET_py\": float32, \"MChadronicBottom_px\": float32, \"MChadronicBottom_py\": float32, \"MChadronicBottom_pz\": float32, \"MCleptonicBottom_px\": float32, \"MCleptonicBottom_py\": float32, \"MCleptonicBottom_pz\": float32, \"MChadronicWDecayQuark_px\": float32, \"MChadronicWDecayQuark_py\": float32, \"MChadronicWDecayQuark_pz\": float32, \"MChadronicWDecayQuarkBar_px\": float32, \"MChadronicWDecayQuarkBar_py\": float32, \"MChadronicWDecayQuarkBar_pz\": float32, \"MClepton_px\": float32, \"MClepton_py\": float32, \"MClepton_pz\": float32, \"MCleptonPDGid\": int32, \"MCneutrino_px\": float32, \"MCneutrino_py\": float32, \"MCneutrino_pz\": float32, \"NPrimaryVertices\": int32, \"triggerIsoMu24\": bool, \"EventWeight\": float32, \"Jet\": var * {\"Px\": float32, \"Py\": float32, \"Pz\": float32, \"E\": float32, \"btag\": float32, \"ID\": bool}, \"Electron\": var * {\"Px\": float32, \"Py\": float32, \"Pz\": float32, \"E\": float32, \"Charge\": int32, \"Iso\": float32}, \"Photon\": var * {\"Px\": float32, \"Py\": float32, \"Pz\": float32, \"E\": float32, \"Iso\": float32}, \"Muon\": var * {\"Px\": float32, \"Py\": float32, \"Pz\": float32, \"E\": float32, \"Charge\": int32, \"Iso\": float32, \"Pt\": float32}, \"MET\": float32}"
      ]
     },
     "execution_count": 17,
     "metadata": {},
     "output_type": "execute_result"
    }
   ],
   "source": [
    "ak.type(mc['tt'])"
   ]
  },
  {
   "cell_type": "code",
   "execution_count": null,
   "metadata": {},
   "outputs": [
    {
     "data": {
      "text/plain": [
       "<matplotlib.legend.Legend at 0x7f9ca6e97e20>"
      ]
     },
     "execution_count": 30,
     "metadata": {},
     "output_type": "execute_result"
    }
   ],
   "source": [
    "n,b = np.histogram(ak.to_numpy(two_iso_muons.M), bins=500)\n",
    "center = (b[:-1] + b[1:]) / 2\n",
    "yerrs = np.sqrt(n)\n",
    "\n",
    "plt.errorbar(center, n, yerr=yerrs, linestyle='None', color='black', marker='o')\n",
    "plt.xlabel('$M_{\\mu\\mu}$ [GeV]')\n",
    "plt.xlim([60, 120])\n",
    "plt.ylim([0.9, 1e4])\n",
    "plt.yscale('log')\n",
    "\n",
    "# Asymmetric error bars for log y?\n",
    "\n",
    "dy_iso = mc['dy'][(mc['dy'].NMuon == 2) & (ak.all(mc['dy'].Muon.Pt > 25, axis=1))]\n",
    "\n",
    "dy_M = [\n",
    "    np.sqrt(\n",
    "        (m.E[0]+m.E[1])**2 - \n",
    "        (m.Px[0]+m.Px[1])**2 - \n",
    "        (m.Py[0]+m.Py[1])**2 -\n",
    "        (m.Pz[0]+m.Pz[1])**2\n",
    "    ) for m in dy_iso.Muon\n",
    "]\n",
    "\n",
    "plt.hist(dy_M, bins=500, log=True, weights=dy_iso.EventWeight, color='c')\n",
    "plt.xlabel('$M_{\\mu\\mu}$ [GeV]')\n",
    "plt.xlim([60, 120])\n",
    "plt.legend(['DY', 'data'])"
   ]
  },
  {
   "cell_type": "markdown",
   "metadata": {},
   "source": [
    "## 2. Properties of top quark events\n",
    "In this exercise we take the first steps towards a real measurement using top quark events. We need\n",
    "to understand how we can efficiently select top quark events and reject events without top quarks\n",
    "(background rejection) at the same time.\n",
    "\n",
    "*  Starting from the requirement of at least one isolated muon, compare several other distributions of event variables for simulated signal ($t\\bar{t}$ events) and background."
   ]
  },
  {
   "cell_type": "code",
   "execution_count": 26,
   "metadata": {},
   "outputs": [
    {
     "data": {
      "text/plain": [
       "<matplotlib.legend.Legend at 0x7f9ca6e4ae50>"
      ]
     },
     "execution_count": 26,
     "metadata": {},
     "output_type": "execute_result"
    },
    {
     "data": {
      "image/png": "[encoded data removed]",
      "text/plain": [
       "<Figure size 432x288 with 1 Axes>"
      ]
     },
     "metadata": {
      "needs_background": "light"
     },
     "output_type": "display_data"
    }
   ],
   "source": [
    "hists = [\n",
    "    plt.hist(mc[n].NJet, histtype='step', color=colors[i], \n",
    "             weights=mc[n].EventWeight, log=True) \n",
    "    for i,n in enumerate(mc)\n",
    "]\n",
    "plt.xlabel('# jets')\n",
    "plt.legend([n for n in mc])"
   ]
  },
  {
   "cell_type": "code",
   "execution_count": 27,
   "metadata": {},
   "outputs": [
    {
     "data": {
      "text/plain": [
       "<matplotlib.legend.Legend at 0x7f9ca6c23b20>"
      ]
     },
     "execution_count": 27,
     "metadata": {},
     "output_type": "execute_result"
    },
    {
     "data": {
      "image/png": "[encoded data removed]",
      "text/plain": [
       "<Figure size 432x288 with 1 Axes>"
      ]
     },
     "metadata": {
      "needs_background": "light"
     },
     "output_type": "display_data"
    }
   ],
   "source": [
    "hists = [\n",
    "    plt.hist(mc[n].MET, histtype='step', color=colors[i], \n",
    "             weights=mc[n].EventWeight, log=True) \n",
    "    for i,n in enumerate(mc)\n",
    "]\n",
    "plt.xlabel('MET [GeV]')\n",
    "plt.legend([n for n in mc])"
   ]
  },
  {
   "cell_type": "markdown",
   "metadata": {},
   "source": [
    "*  Try to find variables which are especially sensitive to separate signal from background (jet multiplicity, transverse momenta of jets and leptons, lepton isolation, b-tagging, missing transverse energy, angular distributions). Fill all these distributions into histograms and compare between signal, background and data.\n",
    "\n",
    "**At least 4 jets, at least 2 b-tagged jets, MET, ...**\n"
   ]
  },
  {
   "cell_type": "markdown",
   "metadata": {},
   "source": [
    "*  Apply cuts on these variables to enrich the signal over background. Try to optimize the signal over background ratio and estimate the purity that can be achieved (based on simulation only).\n",
    "\n",
    "*  Apply your selection cuts also on data. Compare the selection efficiency between data and simulation."
   ]
  },
  {
   "cell_type": "markdown",
   "metadata": {},
   "source": [
    "### 3. Cross-section of top quark production\n",
    "In this exercise we will calculate the cross-section of top quark pair production at the LHC. The\n",
    "necessary ingredients are developed step by step.\n",
    "\n",
    "* The first ingredient is the trigger efficiency $\\epsilon^{trig}$ . We can trust the MC simulation to reproduce this efficiency correctly. Produce the trigger “turn-on” curve which shows the trigger efficiency depending on the muon transverse momentum $p_T$. Calculate the efficiency of triggering top quark events with a reconstructed and isolated muon of $p_T$ > 25 GeV?\n",
    "\n",
    "* The second ingredient is the acceptance $\\epsilon^{acc}$ (not including the trigger). This includes the fact that we only select semi-leptonic top quark decays with muons. The branching fraction is well known, so we can take it from simulation. In addition, the acceptance includes all the selection cuts that have been found in Exercise 2. You can calculate the acceptance by comparing the number of generated top quark events with the number of selected events, after all your cuts.\n",
    "\n",
    "* background subtraction: we also trust the simulation to correctly predict the number of back-ground events after selection. Subtract the expected background from the observed (selected) data events.\n",
    "\n",
    "* You can calculate the cross section now using the purity corrected observed events in data $N^{obs}_{data} X purity$. You have to apply corrections for trigger efficiency  $\\epsilon^{trig}$ and acceptance $\\epsilon^{acc}$\n",
    "\n",
    "* Compare your result with official publications of the ATLAS and CMS Collaborations."
   ]
  },
  {
   "cell_type": "markdown",
   "metadata": {},
   "source": [
    "## 4. Top quark mass reconstruction\n",
    "\n",
    "In this exercise we will reconstruct the fourvectors of the top quarks by assigning the detector objects\n",
    "(jets, leptons, missing energy) to the hypothetical $t\\bar{t}$ decay tree. As we only consider semi-leptonic\n",
    "decays with muons in the final state, we expect four jets, one muon plus missing energy in the final\n",
    "state. Two of the four jets are b-jets (b-tagged).\n",
    "\n",
    "* What is the mass of the top quark in MC simulation (in $t\\bar{t}$ events)? Use the generator-level truth information to calculate the top quark four-vector in the hadronic and leptonic branch.\n",
    "\n",
    "* As a next step try to use detector objects only. Find out which (not b-tagged) jets come from the hadronic W boson decay using the W boson mass.\n",
    "\n",
    "* Combine this W boson with a b-jet. As there are two b-jets, simply use both solutions, and fill the reconstructed top quark mass in histograms, comparing data to simulation.\n",
    "\n",
    "* Reconstruct the top quark from the leptonic branch as well. The z-component of the neutrino is not measured, as we only have transverse missing energy. You can calculate the z-component using a W mass constraint (two solutions)."
   ]
  },
  {
   "cell_type": "code",
   "execution_count": null,
   "metadata": {},
   "outputs": [],
   "source": []
  }
 ],
 "metadata": {
  "kernelspec": {
   "display_name": "Python 3",
   "language": "python",
   "name": "python3"
  },
  "language_info": {
   "codemirror_mode": {
    "name": "ipython",
    "version": 3
   },
   "file_extension": ".py",
   "mimetype": "text/x-python",
   "name": "python",
   "nbconvert_exporter": "python",
   "pygments_lexer": "ipython3",
   "version": "3.8.3"
  }
 },
 "nbformat": 4,
 "nbformat_minor": 4
}
