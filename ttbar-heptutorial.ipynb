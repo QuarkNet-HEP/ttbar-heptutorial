{
 "cells": [
  {
   "cell_type": "markdown",
   "metadata": {},
   "source": [
    "# $t\\bar{t}$ HEP tutorial\n",
    "\n",
    "https://ippog-test.web.cern.ch/resources/2012/cms-hep-tutorial\n",
    "\n",
    "Original authors:\n",
    "christian.sander@cern.ch,\n",
    "alexander.schmidt@cern.ch\n",
    "\n",
    "This notebook adaptation:\n",
    "thomas.mccauley@cern.ch"
   ]
  },
  {
   "cell_type": "markdown",
   "metadata": {},
   "source": [
    "<img src=\"graphics/semileptonic_ttbar.png\" width=60%></img>"
   ]
  },
  {
   "cell_type": "markdown",
   "metadata": {},
   "source": [
    "## Getting started"
   ]
  },
  {
   "cell_type": "code",
   "execution_count": 1,
   "metadata": {},
   "outputs": [],
   "source": [
    "# Stuff for running in Colab: but still need to sort out data handling\n",
    "import sys, subprocess\n",
    "\n",
    "colab_requirements = [\n",
    "  'pip install uproot4==0.0.15',\n",
    "  'pip install awkward1==0.2.25',\n",
    "]\n",
    "\n",
    "def install_requirements(cmd):\n",
    "  process = subprocess.Popen(cmd.split(), stdout=subprocess.PIPE)\n",
    "  for line in process.stdout:\n",
    "    print(line.decode().strip())\n",
    "\n",
    "if 'google.colab' in sys.modules.keys():\n",
    "  for r in colab_requirements:\n",
    "    install_requirements(r)"
   ]
  },
  {
   "cell_type": "markdown",
   "metadata": {},
   "source": [
    "[Awkward array docs](https://awkward-array.readthedocs.io/en/latest/index.html)"
   ]
  },
  {
   "cell_type": "code",
   "execution_count": 2,
   "metadata": {},
   "outputs": [],
   "source": [
    "import uproot4\n",
    "import awkward1 as ak\n",
    "import numpy as np\n",
    "import matplotlib.pyplot as plt"
   ]
  },
  {
   "cell_type": "markdown",
   "metadata": {},
   "source": [
    "| Sample | Number of events | Comments |\n",
    "| :--- | :--- | :--- |\n",
    "| Data | 469384 | triggered on isolated Muons with pT > 24 GeV |\n",
    "| MC: TTbar | 36941 | generated with MadGraph; isoMuon24 trigger bit stored |\n",
    "| MC: W+jets | \t109737 | generated with MadGraph; triggered on simulated isolated Muons with pT > 24 GeV |\n",
    "| MC: Drell Yan | 77729 | generated with MadGraph; triggered on simulated isolated Muons with pT > 24 GeV |\n",
    "| MC: WW | 4580 |\tgenerated with Pythia; triggered on simulated isolated Muons with pT > 24 GeV |\n",
    "| MC: WZ | 3367 |\tgenerated with Pythia; triggered on simulated isolated Muons with pT > 24 GeV |\n",
    "| MC: ZZ | 2421 |\tgenerated with Pythia; triggered on simulated isolated Muons with pT > 24 GeV |\n",
    "| MC: single top | 5684 |\tgenerated with Powheg; triggered on simulated isolated Muons with pT > 24 GeV |\n",
    "| MC: QCD | 142 | \tgenerated with Pythia; triggered on simulated isolated Muons with pT > 24 GeV | "
   ]
  },
  {
   "cell_type": "markdown",
   "metadata": {},
   "source": [
    "* `NJet` (integer): number of jets in the event.\n",
    "\n",
    "* `Jet_Px[NJet]` (float): x-component of jet momentum. This is an array of size NJet, where a\n",
    "maximum of twenty jets are stored (NJet < 21). If there are more than twenty jets in the event,\n",
    "only the twenty most energetic are stored. Only jets with p T > 30 GeV are stored.\n",
    "\n",
    "* `Jet_Py[NJet]` (float): y-component of jet momentum, otherwise same as Jet_Px[NJet].\n",
    "\n",
    "* `Jet_Pz[NJet]` (float): z-component of jet momentum, otherwise same as Jet_Px[NJet].\n",
    "\n",
    "* `Jet_E[NJet]` (float): energy of the jet, otherwise same as Jet_Px[NJet]. Note that the four\n",
    "compoments Jet_Px, Jet_Py, Jet_Pz and Jet_E constitute a fourvector which fully describes\n",
    "the kinematics of a jet.\n",
    "\n",
    "* `Jet_btag[NJet]` (float): b-tagging discriminator. This quantity is obtained from an algorithm\n",
    "that identifies B-hadron decays within a jet. It is correlated with the lifetime of the B-hadron.\n",
    "Higher values indicate a higher probability that the jet originates from a b-quark. Important:\n",
    "The discriminator has small performance differences in data and simulation. To account for this,\n",
    "simulated events have to be reweighted by a factor of ∼ 0.9 per required b-tagged quark.\n",
    "\n",
    "* `Jet_ID[NJet]` (bool): Jet quality identifier to distiguish between real jets (induced by hadronic\n",
    "interactions) and detector noise. A good jet has true as value.\n",
    "\n",
    "* `NMuon` (integer): number of muons in the event.\n",
    "\n",
    "* `Muon_Px[NMuon]` (float): x-component of muon momentum. This is an array of size NMuon,\n",
    "where a maximum of five muons are stored (NMuon < 5). If there are more than five muons in\n",
    "the event, only the five most energetic are stored.\n",
    "\n",
    "* `Muon_Py[NMuon]` (float): y-component of muon momentum, otherwise same as Muon_Px[NMuon].\n",
    "\n",
    "* `Muon_Pz[NMuon]` (float): z-component of muon momentum, otherwise same as Muon_Px[NMuon].\n",
    "\n",
    "* `Muon_E[NMuon]` (float): energy of the muon, otherwise same as Muon_Px[NMuon]. Note that the\n",
    "four compoments Muon_Px, Muon_Py, Muon_Pz and Muon_E constitute a fourvector which fully\n",
    "describes the kinematics of a muon.\n",
    "\n",
    "* `Muon_Charge[NMuon]` (integer): charge of the muon. It is determined from the curvature in the\n",
    "magnetic field and has values +1 or -1.\n",
    "\n",
    "* `Muon_Iso[NMuon]` (float): muon isolation. This variable is a measure for the amount of detector\n",
    "activity around that muon. Muons within jets are accompanied by close-by tracks and deposits\n",
    "in the calorimeters, leading to a large values of Muon_Iso. On the other hand, muons from W\n",
    "bosons are isolated and have small values of Muon_Iso.\n",
    "\n",
    "* `NElectron` (integer): same as for muons above, but for electrons.\n",
    "\n",
    "* `Electron_Px[NElectron]` (float): same as for muons above, but for electrons.\n",
    "\n",
    "* `Electron_Py[NElectron]` (float): same as for muons above, but for electrons.\n",
    "\n",
    "* `Electron_Pz[NElectron]` (float): same as for muons above, but for electrons.\n",
    "\n",
    "* `Electron_E[NElectron]` (float): same as for muons above, but for electrons.\n",
    "\n",
    "* `Electron_Charge[NElectron]` (integer): same as for muons above, but for electrons.\n",
    "\n",
    "* `Electron_Iso[NElectron]` (float): same as for muons above, but for electrons.\n",
    "\n",
    "* `NPhoton` (integer): same as for muons above, but for photons.\n",
    "\n",
    "* `Phtoton_Px[NPhoton]` (float): same as for muons above, but for photons.\n",
    "\n",
    "* `Photon_Py[NPhoton]` (float): same as for muons above, but for photons.\n",
    "\n",
    "* `Photon_Pz[NPhoton]` (float): same as for muons above, but for photons.\n",
    "\n",
    "* `Photon_E[NPhoton]` (float): same as for muons above, but for photons.\n",
    "\n",
    "* `Photon_Iso[NPhoton]` (float): same as for muons above, but for photons.\n",
    "\n",
    "* `MET_px` (float): x-component of the missing energy. Due to the hermetic coverage of the LHC\n",
    "detectors and the negligible transverse boost of the initial state, the transverse momentum\n",
    "sum of all detector objects (jets, muons, etc...) must be zero. This is required by energy and\n",
    "momentum conservation. Objects which escape the detector, such as neutrinos, are causing a\n",
    "”missing” transverse energy which can be measured and associated to the neutrino.\n",
    "\n",
    "* `MET_py` (float): y-component of the missing energy.\n",
    "\n",
    "* `NPrimaryVertices` (integer): the number of proton-proton interaction vertices. Due to the high\n",
    "LHC luminosity several protons within one bunch crossing can collide. This is usually referred\n",
    "to as ”pileup”. The spread of these vertices is several centimeters in longitudinal direction and\n",
    "only micrometers in the transverse direction.\n",
    "\n",
    "* `triggerIsoMu24` (bool): the trigger bit. It is ”true” if the event is triggered and ”false” if the\n",
    "event is not triggered (data can only contain triggered events)."
   ]
  },
  {
   "cell_type": "markdown",
   "metadata": {},
   "source": [
    "* `MChadronicBottom_px` (float): x-compoment of the b-quark from the top decay belonging to\n",
    "the hadronic branch.\n",
    "\n",
    "* `MChadronicBottom_py` (float): y-compoment ...\n",
    "\n",
    "* `MChadronicBottom_pz` (float): z-compoment ...\n",
    "\n",
    "* `MChadronicWDecayQuark_px` (float): x-component of the quark from the hadronic W boson\n",
    "decay\n",
    "\n",
    "* `MChadronicWDecayQuark_py` (float): y-component ...\n",
    "\n",
    "* `MChadronicWDecayQuark_pz` (float): z-component ...\n",
    "\n",
    "* `MChadronicWDecayQuarkBar_px` (float): x-component of the anti-quark from the hadronic W\n",
    "boson decay\n",
    "\n",
    "* `MChadronicWDecayQuarkBar_py` (float): y-component ...\n",
    "\n",
    "* `MChadronicWDecayQuarkBar_pz` (float): z-component ...\n",
    "\n",
    "* `MCleptonicBottom_px` (float): x-compoment of the b-quark from the top decay belonging to\n",
    "the leptonic branch.\n",
    "\n",
    "* `MCleptonicBottom_py` (float): y-compoment ...\n",
    "\n",
    "* `MCleptonicBottom_pz` (float): z-compoment ...\n",
    "\n",
    "* `MClepton_px` (float): x-component of the lepton (electron, muon, tau) from the leptonic W\n",
    "boson decay.\n",
    "\n",
    "* `MClepton_py` (float): y-component ...\n",
    "\n",
    "* `MClepton_pz` (float): z-component ...\n",
    "\n",
    "* `MCleptonPDGid` (integer): particle “ID” of the lepton. Possible values are 11 for electrons, 13\n",
    "for muons, 15 for taus. Negative numbers indicate anti-particles.\n",
    "\n",
    "* `MCneutrino_px` (float): x-component of the neutrino from the leptonic W boson decay.\n",
    "\n",
    "* `MCneutrino_py` (float): y-component ...\n",
    "\n",
    "* `MCneutrino_pz` (float): z-component ...\n",
    "\n",
    "* `EventWeight` (float): weight factor to be applied to simulated events due to different sample\n",
    "sizes."
   ]
  },
  {
   "cell_type": "code",
   "execution_count": 3,
   "metadata": {},
   "outputs": [],
   "source": [
    "data = uproot4.open('./data/data.root:events')\n",
    "ttbar = uproot4.open('./data/ttbar.root:events')\n",
    "wjets = uproot4.open('./data/wjets.root:events')\n",
    "dy = uproot4.open('./data/dy.root:events')\n",
    "ww = uproot4.open('./data/ww.root:events')\n",
    "zz = uproot4.open('./data/zz.root:events')\n",
    "single_top = uproot4.open('./data/single_top.root:events')\n",
    "qcd = uproot4.open('data/qcd.root:events')"
   ]
  },
  {
   "cell_type": "code",
   "execution_count": 4,
   "metadata": {},
   "outputs": [
    {
     "name": "stdout",
     "output_type": "stream",
     "text": [
      "name                 | typename             | interpretation                    \n",
      "---------------------+----------------------+-----------------------------------\n",
      "NJet                 | int32_t              | AsDtype('>i4')                    \n",
      "Jet_Px               | float[]              | AsJagged(AsDtype('>f4'))          \n",
      "Jet_Py               | float[]              | AsJagged(AsDtype('>f4'))          \n",
      "Jet_Pz               | float[]              | AsJagged(AsDtype('>f4'))          \n",
      "Jet_E                | float[]              | AsJagged(AsDtype('>f4'))          \n",
      "Jet_btag             | float[]              | AsJagged(AsDtype('>f4'))          \n",
      "Jet_ID               | bool[]               | AsJagged(AsDtype('bool'))         \n",
      "NMuon                | int32_t              | AsDtype('>i4')                    \n",
      "Muon_Px              | float[]              | AsJagged(AsDtype('>f4'))          \n",
      "Muon_Py              | float[]              | AsJagged(AsDtype('>f4'))          \n",
      "Muon_Pz              | float[]              | AsJagged(AsDtype('>f4'))          \n",
      "Muon_E               | float[]              | AsJagged(AsDtype('>f4'))          \n",
      "Muon_Charge          | int32_t[]            | AsJagged(AsDtype('>i4'))          \n",
      "Muon_Iso             | float[]              | AsJagged(AsDtype('>f4'))          \n",
      "NElectron            | int32_t              | AsDtype('>i4')                    \n",
      "Electron_Px          | float[]              | AsJagged(AsDtype('>f4'))          \n",
      "Electron_Py          | float[]              | AsJagged(AsDtype('>f4'))          \n",
      "Electron_Pz          | float[]              | AsJagged(AsDtype('>f4'))          \n",
      "Electron_E           | float[]              | AsJagged(AsDtype('>f4'))          \n",
      "Electron_Charge      | int32_t[]            | AsJagged(AsDtype('>i4'))          \n",
      "Electron_Iso         | float[]              | AsJagged(AsDtype('>f4'))          \n",
      "NPhoton              | int32_t              | AsDtype('>i4')                    \n",
      "Photon_Px            | float[]              | AsJagged(AsDtype('>f4'))          \n",
      "Photon_Py            | float[]              | AsJagged(AsDtype('>f4'))          \n",
      "Photon_Pz            | float[]              | AsJagged(AsDtype('>f4'))          \n",
      "Photon_E             | float[]              | AsJagged(AsDtype('>f4'))          \n",
      "Photon_Iso           | float[]              | AsJagged(AsDtype('>f4'))          \n",
      "MET_px               | float                | AsDtype('>f4')                    \n",
      "MET_py               | float                | AsDtype('>f4')                    \n",
      "MChadronicBottom_px  | float                | AsDtype('>f4')                    \n",
      "MChadronicBottom_py  | float                | AsDtype('>f4')                    \n",
      "MChadronicBottom_pz  | float                | AsDtype('>f4')                    \n",
      "MCleptonicBottom_px  | float                | AsDtype('>f4')                    \n",
      "MCleptonicBottom_py  | float                | AsDtype('>f4')                    \n",
      "MCleptonicBottom_pz  | float                | AsDtype('>f4')                    \n",
      "MChadronicWDecayQuar | float                | AsDtype('>f4')                    \n",
      "MChadronicWDecayQuar | float                | AsDtype('>f4')                    \n",
      "MChadronicWDecayQuar | float                | AsDtype('>f4')                    \n",
      "MChadronicWDecayQuar | float                | AsDtype('>f4')                    \n",
      "MChadronicWDecayQuar | float                | AsDtype('>f4')                    \n",
      "MChadronicWDecayQuar | float                | AsDtype('>f4')                    \n",
      "MClepton_px          | float                | AsDtype('>f4')                    \n",
      "MClepton_py          | float                | AsDtype('>f4')                    \n",
      "MClepton_pz          | float                | AsDtype('>f4')                    \n",
      "MCleptonPDGid        | int32_t              | AsDtype('>i4')                    \n",
      "MCneutrino_px        | float                | AsDtype('>f4')                    \n",
      "MCneutrino_py        | float                | AsDtype('>f4')                    \n",
      "MCneutrino_pz        | float                | AsDtype('>f4')                    \n",
      "NPrimaryVertices     | int32_t              | AsDtype('>i4')                    \n",
      "triggerIsoMu24       | bool                 | AsDtype('bool')                   \n",
      "EventWeight          | float                | AsDtype('>f4')                    \n"
     ]
    }
   ],
   "source": [
    "data.show()"
   ]
  },
  {
   "cell_type": "markdown",
   "metadata": {},
   "source": [
    "## 1. Warmup\n",
    "\n",
    "The trigger for this tutorial selects events which contain one or more muons as discussed in the\n",
    "documentation and explanation."
   ]
  },
  {
   "cell_type": "markdown",
   "metadata": {},
   "source": [
    "* Find out how often there is more than one isolated, reconstructed muon in data (histogram of the muon multiplicity). Where could these additional muons come from?"
   ]
  },
  {
   "cell_type": "code",
   "execution_count": 5,
   "metadata": {},
   "outputs": [
    {
     "data": {
      "text/plain": [
       "469384 * {\"NJet\": int32, \"NMuon\": int32, \"NElectron\": int32, \"NPhoton\": int32, \"MET_px\": float32, \"MET_py\": float32, \"MChadronicBottom_px\": float32, \"MChadronicBottom_py\": float32, \"MChadronicBottom_pz\": float32, \"MCleptonicBottom_px\": float32, \"MCleptonicBottom_py\": float32, \"MCleptonicBottom_pz\": float32, \"MChadronicWDecayQuark_px\": float32, \"MChadronicWDecayQuark_py\": float32, \"MChadronicWDecayQuark_pz\": float32, \"MChadronicWDecayQuarkBar_px\": float32, \"MChadronicWDecayQuarkBar_py\": float32, \"MChadronicWDecayQuarkBar_pz\": float32, \"MClepton_px\": float32, \"MClepton_py\": float32, \"MClepton_pz\": float32, \"MCleptonPDGid\": int32, \"MCneutrino_px\": float32, \"MCneutrino_py\": float32, \"MCneutrino_pz\": float32, \"NPrimaryVertices\": int32, \"triggerIsoMu24\": bool, \"EventWeight\": float32, \"Jet\": var * {\"Px\": float32, \"Py\": float32, \"Pz\": float32, \"E\": float32, \"btag\": float32, \"ID\": bool}, \"Muon\": var * {\"Px\": float32, \"Py\": float32, \"Pz\": float32, \"E\": float32, \"Charge\": int32, \"Iso\": float32}, \"Electron\": var * {\"Px\": float32, \"Py\": float32, \"Pz\": float32, \"E\": float32, \"Charge\": int32, \"Iso\": float32}, \"Photon\": var * {\"Px\": float32, \"Py\": float32, \"Pz\": float32, \"E\": float32, \"Iso\": float32}}"
      ]
     },
     "execution_count": 5,
     "metadata": {},
     "output_type": "execute_result"
    }
   ],
   "source": [
    "data_events = data.arrays(library=\"ak\", how=\"zip\")\n",
    "ak.type(data_events)"
   ]
  },
  {
   "cell_type": "code",
   "execution_count": 6,
   "metadata": {},
   "outputs": [],
   "source": [
    "# Add pt, eta to data for muons and add MET\n",
    "data_events['Muon', 'Pt'] = np.sqrt(\n",
    "    data_events.Muon.Px*data_events.Muon.Px +\n",
    "    data_events.Muon.Py*data_events.Muon.Py\n",
    ")\n",
    "\n",
    "data_events['Muon', 'Eta'] = np.arcsinh(\n",
    "    data_events.Muon.Pz / data_events.Muon.Pt\n",
    ")\n",
    "\n",
    "data_events['MET'] = np.sqrt(\n",
    "    data_events.MET_px**2 + data_events.MET_py**2\n",
    ")"
   ]
  },
  {
   "cell_type": "code",
   "execution_count": 7,
   "metadata": {},
   "outputs": [
    {
     "data": {
      "text/plain": [
       "Text(0.5, 0, '# muons')"
      ]
     },
     "execution_count": 7,
     "metadata": {},
     "output_type": "execute_result"
    },
    {
     "data": {
      "image/png": "[encoded data removed]",
      "text/plain": [
       "<Figure size 432x288 with 1 Axes>"
      ]
     },
     "metadata": {
      "needs_background": "light"
     },
     "output_type": "display_data"
    }
   ],
   "source": [
    "n,b,_ = plt.hist(data_events.NMuon, histtype='step', bins=3, range=(0,3))\n",
    "plt.xlabel('# muons')"
   ]
  },
  {
   "cell_type": "markdown",
   "metadata": {},
   "source": [
    "Apply isolation criteria and $p_{t}$ cut"
   ]
  },
  {
   "cell_type": "code",
   "execution_count": 8,
   "metadata": {},
   "outputs": [],
   "source": [
    "muon_reliso_cut = 0.10\n",
    "muon_pt_cut = 25.0 "
   ]
  },
  {
   "cell_type": "code",
   "execution_count": 9,
   "metadata": {},
   "outputs": [
    {
     "data": {
      "text/plain": [
       "Text(0.5, 0, '# isolated muons')"
      ]
     },
     "execution_count": 9,
     "metadata": {},
     "output_type": "execute_result"
    },
    {
     "data": {
      "image/png": "[encoded data removed]",
      "text/plain": [
       "<Figure size 432x288 with 1 Axes>"
      ]
     },
     "metadata": {
      "needs_background": "light"
     },
     "output_type": "display_data"
    }
   ],
   "source": [
    "iso_muons = data_events[\n",
    "    ak.any(\n",
    "        ((data_events.Muon.Iso / data_events.Muon.Pt) < muon_reliso_cut), \n",
    "        axis=1\n",
    "    )\n",
    "]\n",
    "\n",
    "n,b,_ = plt.hist(iso_muons.NMuon, histtype='step', bins=3, range=(0,3))\n",
    "plt.xlabel('# isolated muons')"
   ]
  },
  {
   "cell_type": "markdown",
   "metadata": {},
   "source": [
    "* Calculate the invariant mass of two muons of opposite charge. Only use isolated muons.\n",
    "\n",
    "* Display the invariant mass distribution of two muons in a histogram (hint: try different axis ranges)."
   ]
  },
  {
   "cell_type": "code",
   "execution_count": 10,
   "metadata": {},
   "outputs": [
    {
     "data": {
      "text/plain": [
       "(60.0, 120.0)"
      ]
     },
     "execution_count": 10,
     "metadata": {},
     "output_type": "execute_result"
    },
    {
     "data": {
      "image/png": "[encoded data removed]",
      "text/plain": [
       "<Figure size 432x288 with 1 Axes>"
      ]
     },
     "metadata": {
      "needs_background": "light"
     },
     "output_type": "display_data"
    }
   ],
   "source": [
    "# There are 2 isolated muons and both have pt > 25 GeV\n",
    "two_iso_muons = iso_muons[\n",
    "    (iso_muons.NMuon == 2) & \n",
    "    (ak.all(iso_muons.Muon.Pt > muon_pt_cut, axis=1))]\n",
    "\n",
    "two_iso_muons['M'] = [\n",
    "        np.sqrt(\n",
    "                (m.E[0]+m.E[1])**2 - \n",
    "                (m.Px[0]+m.Px[1])**2 - \n",
    "                (m.Py[0]+m.Py[1])**2 -\n",
    "                (m.Pz[0]+m.Pz[1])**2\n",
    "        ) for m in two_iso_muons.Muon\n",
    "]\n",
    "    \n",
    "nbins = 60\n",
    "xmin = 60\n",
    "xmax = 120  \n",
    "\n",
    "n,b,_ = plt.hist(two_iso_muons.M, bins=60, range=(xmin, xmax), log=True, histtype='step')\n",
    "plt.xlabel('$M_{\\mu\\mu}$ [GeV]')\n",
    "plt.xlim([60, 120])"
   ]
  },
  {
   "cell_type": "markdown",
   "metadata": {},
   "source": [
    "* Compare your results to MC simulation (display simulation and data in the same histogram). Make sure you select triggered events only for the simulated samples."
   ]
  },
  {
   "cell_type": "code",
   "execution_count": 11,
   "metadata": {},
   "outputs": [],
   "source": [
    "# Put mc in a dict\n",
    "\n",
    "mc = {\n",
    "    'tt': ttbar.arrays(library='ak', how='zip'),\n",
    "    'wjets': wjets.arrays(library='ak', how='zip'),\n",
    "    'dy': dy.arrays(library='ak', how='zip'),\n",
    "    'ww': ww.arrays(library='ak', how='zip'),\n",
    "    'zz': zz.arrays(library='ak', how='zip'),\n",
    "    'single_top': single_top.arrays(library='ak', how='zip'),\n",
    "    'qcd': qcd.arrays(library='ak', how='zip'),\n",
    "}"
   ]
  },
  {
   "cell_type": "code",
   "execution_count": 12,
   "metadata": {},
   "outputs": [],
   "source": [
    "# Add pt, phi, eta, and MET to MC for jets, muons, electrons\n",
    "for n in mc:\n",
    "    \n",
    "    mc[n]['Muon', 'Pt'] = np.sqrt(\n",
    "        mc[n].Muon.Px**2 + mc[n].Muon.Py**2\n",
    "    )\n",
    "    \n",
    "    mc[n]['Muon', 'Phi'] = np.arctan2(\n",
    "        mc[n].Muon.Py, mc[n].Muon.Px\n",
    "    ) \n",
    "    \n",
    "    mc[n]['Muon', 'Eta'] = np.arcsinh(\n",
    "        mc[n].Muon.Pz / mc[n].Muon.Pt\n",
    "    )\n",
    "    \n",
    "    mc[n]['Electron', 'Pt'] = np.sqrt(\n",
    "        mc[n].Electron.Px**2 + mc[n].Electron.Py**2\n",
    "    )\n",
    "    \n",
    "    mc[n]['Electron', 'Phi'] = np.arctan2(\n",
    "        mc[n].Electron.Py, mc[n].Electron.Px\n",
    "    ) \n",
    "    \n",
    "    mc[n]['Electron', 'Eta'] = np.arcsinh(\n",
    "        mc[n].Electron.Pz / mc[n].Electron.Pt\n",
    "    )\n",
    "    \n",
    "    mc[n]['Jet', 'Pt'] = np.sqrt(\n",
    "        mc[n].Jet.Px**2 + mc[n].Jet.Py**2\n",
    "    )\n",
    "    \n",
    "    mc[n]['Jet', 'Phi'] = np.arctan2(\n",
    "        mc[n].Jet.Py, mc[n].Jet.Px\n",
    "    )\n",
    "    \n",
    "    mc[n]['Jet', 'Eta'] = np.arcsinh(\n",
    "        mc[n].Jet.Pz / mc[n].Jet.Pt\n",
    "    )\n",
    "    \n",
    "    mc[n]['MET'] = np.sqrt(\n",
    "        mc[n].MET_px**2 + mc[n].MET_py**2 \n",
    "    )"
   ]
  },
  {
   "cell_type": "code",
   "execution_count": 13,
   "metadata": {},
   "outputs": [
    {
     "data": {
      "text/plain": [
       "36941 * {\"NJet\": int32, \"NMuon\": int32, \"NElectron\": int32, \"NPhoton\": int32, \"MET_px\": float32, \"MET_py\": float32, \"MChadronicBottom_px\": float32, \"MChadronicBottom_py\": float32, \"MChadronicBottom_pz\": float32, \"MCleptonicBottom_px\": float32, \"MCleptonicBottom_py\": float32, \"MCleptonicBottom_pz\": float32, \"MChadronicWDecayQuark_px\": float32, \"MChadronicWDecayQuark_py\": float32, \"MChadronicWDecayQuark_pz\": float32, \"MChadronicWDecayQuarkBar_px\": float32, \"MChadronicWDecayQuarkBar_py\": float32, \"MChadronicWDecayQuarkBar_pz\": float32, \"MClepton_px\": float32, \"MClepton_py\": float32, \"MClepton_pz\": float32, \"MCleptonPDGid\": int32, \"MCneutrino_px\": float32, \"MCneutrino_py\": float32, \"MCneutrino_pz\": float32, \"NPrimaryVertices\": int32, \"triggerIsoMu24\": bool, \"EventWeight\": float32, \"Photon\": var * {\"Px\": float32, \"Py\": float32, \"Pz\": float32, \"E\": float32, \"Iso\": float32}, \"Muon\": var * {\"Px\": float32, \"Py\": float32, \"Pz\": float32, \"E\": float32, \"Charge\": int32, \"Iso\": float32, \"Pt\": float32, \"Phi\": float32, \"Eta\": float32}, \"Electron\": var * {\"Px\": float32, \"Py\": float32, \"Pz\": float32, \"E\": float32, \"Charge\": int32, \"Iso\": float32, \"Pt\": float32, \"Phi\": float32, \"Eta\": float32}, \"Jet\": var * {\"Px\": float32, \"Py\": float32, \"Pz\": float32, \"E\": float32, \"btag\": float32, \"ID\": bool, \"Pt\": float32, \"Phi\": float32, \"Eta\": float32}, \"MET\": float32}"
      ]
     },
     "execution_count": 13,
     "metadata": {},
     "output_type": "execute_result"
    }
   ],
   "source": [
    "ak.type(mc['tt'])"
   ]
  },
  {
   "cell_type": "code",
   "execution_count": 14,
   "metadata": {},
   "outputs": [],
   "source": [
    "# ttbar\n",
    "tt_iso = mc['tt'][\n",
    "    (mc['tt'].NMuon == 2) & \n",
    "    (ak.all(mc['tt'].Muon.Pt > muon_pt_cut, axis=1)) &\n",
    "    (ak.any(((mc['tt'].Muon.Iso / mc['tt'].Muon.Pt) < muon_reliso_cut), axis=1)) &\n",
    "    (mc['tt'].triggerIsoMu24)\n",
    "]\n",
    "\n",
    "tt_M = [\n",
    "    np.sqrt(\n",
    "        (m.E[0]+m.E[1])**2 - \n",
    "        (m.Px[0]+m.Px[1])**2 - \n",
    "        (m.Py[0]+m.Py[1])**2 -\n",
    "        (m.Pz[0]+m.Pz[1])**2\n",
    "    ) for m in tt_iso.Muon\n",
    "]\n",
    "\n",
    "dy_iso = mc['dy'][\n",
    "    (mc['dy'].NMuon == 2) &\n",
    "    (ak.all(mc['dy'].Muon.Pt > muon_pt_cut, axis=1)) &\n",
    "    (ak.any(((mc['dy'].Muon.Iso / mc['dy'].Muon.Pt) < muon_reliso_cut), axis=1)) &\n",
    "    (mc['dy'].triggerIsoMu24)\n",
    "]\n",
    "\n",
    "dy_M = [\n",
    "    np.sqrt(\n",
    "        (m.E[0]+m.E[1])**2 - \n",
    "        (m.Px[0]+m.Px[1])**2 - \n",
    "        (m.Py[0]+m.Py[1])**2 -\n",
    "        (m.Pz[0]+m.Pz[1])**2\n",
    "    ) for m in dy_iso.Muon\n",
    "]"
   ]
  },
  {
   "cell_type": "code",
   "execution_count": 15,
   "metadata": {},
   "outputs": [
    {
     "data": {
      "image/png": "[encoded data removed]",
      "text/plain": [
       "<Figure size 432x288 with 1 Axes>"
      ]
     },
     "metadata": {
      "needs_background": "light"
     },
     "output_type": "display_data"
    }
   ],
   "source": [
    "# This is the way I used to know how to do it\n",
    "\n",
    "tt_n, b = np.histogram(\n",
    "    tt_M, \n",
    "    bins=nbins, \n",
    "    weights=ak.to_numpy(tt_iso.EventWeight), \n",
    "    range=(xmin,xmax)\n",
    ")\n",
    "\n",
    "width = 1.0*(b[1] - b[0])\n",
    "center = (b[:-1] + b[1:]) / 2\n",
    "\n",
    "tt_hist = plt.bar(\n",
    "    center, \n",
    "    tt_n,  \n",
    "    linewidth=0, \n",
    "    color='c',  \n",
    "    label='tt',\n",
    "    align='center',\n",
    "    width=width,\n",
    "    alpha=0.5\n",
    ")\n",
    "\n",
    "dy_n, b = np.histogram(\n",
    "    dy_M, \n",
    "    bins=nbins, \n",
    "    weights=ak.to_numpy(dy_iso.EventWeight), \n",
    "    range=(xmin,xmax)\n",
    ")\n",
    "\n",
    "width = 1.0*(b[1] - b[0])\n",
    "center = (b[:-1] + b[1:]) / 2\n",
    "\n",
    "d_hist = plt.bar(\n",
    "    center, \n",
    "    dy_n,  \n",
    "    linewidth=0, \n",
    "    color='m',  \n",
    "    label='dy',\n",
    "    bottom=tt_n,\n",
    "    align='center',\n",
    "    width=width,\n",
    "    alpha=0.5\n",
    ")\n",
    "\n",
    "n,b = np.histogram(ak.to_numpy(two_iso_muons.M), bins=nbins, range=(xmin,xmax))\n",
    "center = (b[:-1] + b[1:]) / 2\n",
    "yerrs = np.sqrt(n) # Asymmetric error bars for log y?\n",
    "\n",
    "plt.errorbar(\n",
    "    center, \n",
    "    n, \n",
    "    yerr=yerrs, \n",
    "    linestyle='None', \n",
    "    color='black', \n",
    "    marker='o', \n",
    "    label='data'\n",
    ")\n",
    "\n",
    "plt.xlabel('$M_{\\mu\\mu}$ [GeV]')\n",
    "plt.xlim([xmin, xmax])\n",
    "plt.ylim([0.9, 1e4])\n",
    "plt.yscale('log')\n",
    "\n",
    "plt.legend(loc=\"upper right\")\n",
    "\n",
    "plt.show()"
   ]
  },
  {
   "cell_type": "code",
   "execution_count": 16,
   "metadata": {},
   "outputs": [
    {
     "data": {
      "image/png": "[encoded data removed]",
      "text/plain": [
       "<Figure size 432x288 with 1 Axes>"
      ]
     },
     "metadata": {
      "needs_background": "light"
     },
     "output_type": "display_data"
    }
   ],
   "source": [
    "# This is much better\n",
    "\n",
    "plt.hist(\n",
    "    [tt_M, dy_M], \n",
    "    bins=nbins, \n",
    "    range=(xmin,xmax), \n",
    "    histtype='stepfilled', \n",
    "    weights=[ak.to_numpy(tt_iso.EventWeight), ak.to_numpy(dy_iso.EventWeight)], \n",
    "    color=['c', 'm'], \n",
    "    alpha=0.5,\n",
    "    stacked=True,\n",
    "    label=['tt', 'dy']\n",
    ")\n",
    "\n",
    "n,b = np.histogram(ak.to_numpy(two_iso_muons.M), bins=nbins, range=(xmin,xmax))\n",
    "center = (b[:-1] + b[1:]) / 2\n",
    "yerrs = np.sqrt(n) # Asymmetric error bars for log y?\n",
    "\n",
    "plt.errorbar(\n",
    "    center, \n",
    "    n, \n",
    "    yerr=yerrs, \n",
    "    linestyle='None', \n",
    "    color='black', \n",
    "    marker='o', \n",
    "    label='data'\n",
    ")\n",
    "\n",
    "plt.xlabel('$M_{\\mu\\mu}$ [GeV]')\n",
    "plt.xlim([xmin, xmax])\n",
    "plt.ylim([0.9, 1e4])\n",
    "plt.yscale('log')\n",
    "\n",
    "plt.legend(loc=\"upper right\")\n",
    "\n",
    "plt.show()"
   ]
  },
  {
   "cell_type": "markdown",
   "metadata": {},
   "source": [
    "## 2. Properties of top quark events\n",
    "In this exercise we take the first steps towards a real measurement using top quark events. We need\n",
    "to understand how we can efficiently select top quark events and reject events without top quarks\n",
    "(background rejection) at the same time.\n",
    "\n",
    "*  Starting from the requirement of at least one isolated muon, compare several other distributions of event variables for simulated signal ($t\\bar{t}$ events) and background.\n",
    "\n",
    "*  Try to find variables which are especially sensitive to separate signal from background (jet multiplicity, transverse momenta of jets and leptons, lepton isolation, b-tagging, missing transverse energy, angular distributions). Fill all these distributions into histograms and compare between signal, background and data."
   ]
  },
  {
   "cell_type": "code",
   "execution_count": 17,
   "metadata": {},
   "outputs": [],
   "source": [
    "# Select for at least one isolated muon in triggered events\n",
    "for n in mc:\n",
    "    mc[n] = mc[n][ak.any(((mc[n].Muon.Iso / mc[n].Muon.Pt) < 0.10), axis=1)]\n",
    "    mc[n] = mc[n][(mc[n].NMuon >= 1) & (mc[n].triggerIsoMu24)]\n",
    "    \n",
    "one_iso_muon = iso_muons[(iso_muons.NMuon >= 1)]"
   ]
  },
  {
   "cell_type": "code",
   "execution_count": 18,
   "metadata": {},
   "outputs": [],
   "source": [
    "colors = ['k', 'r', 'g', 'b', 'c', 'm', 'y']\n",
    "labels = ['tt', 'wjets', 'dy', 'ww', 'zz', 'single_top', 'qcd']"
   ]
  },
  {
   "cell_type": "code",
   "execution_count": 19,
   "metadata": {},
   "outputs": [
    {
     "data": {
      "image/png": "[encoded data removed]",
      "text/plain": [
       "<Figure size 864x864 with 7 Axes>"
      ]
     },
     "metadata": {
      "needs_background": "light"
     },
     "output_type": "display_data"
    }
   ],
   "source": [
    "fig = plt.figure(figsize=(12, 12))\n",
    "\n",
    "for i,n in enumerate(mc):\n",
    "    \n",
    "    ax = plt.subplot(4,4,i+1)\n",
    "    \n",
    "    plt.hist(\n",
    "        mc[n].NMuon, \n",
    "        histtype='stepfilled',\n",
    "        weights=mc[n].EventWeight,\n",
    "        log=False,\n",
    "        bins=6,\n",
    "        range=(0,6),\n",
    "        color=colors[i],\n",
    "        alpha=0.5,\n",
    "    ) \n",
    "    \n",
    "    plt.yscale('log')\n",
    "    plt.xlabel('# muons')\n",
    "    plt.legend([n])\n",
    "\n",
    "plt.tight_layout()"
   ]
  },
  {
   "cell_type": "code",
   "execution_count": 20,
   "metadata": {},
   "outputs": [
    {
     "data": {
      "image/png": "[encoded data removed]",
      "text/plain": [
       "<Figure size 432x288 with 1 Axes>"
      ]
     },
     "metadata": {
      "needs_background": "light"
     },
     "output_type": "display_data"
    }
   ],
   "source": [
    "nmuons = [ak.to_numpy(mc[n].NMuon) for n in mc]\n",
    "weights = [ak.to_numpy(mc[n].EventWeight) for n in mc]\n",
    "\n",
    "nbins = 6\n",
    "xmax = 6\n",
    "\n",
    "plt.hist(\n",
    "    nmuons, \n",
    "    bins=nbins, \n",
    "    range=(0,xmax), \n",
    "    histtype='stepfilled', \n",
    "    weights=weights, \n",
    "    color=colors, \n",
    "    alpha=0.5,\n",
    "    stacked=True,\n",
    "    label=labels\n",
    ")\n",
    "\n",
    "n,b = np.histogram(ak.to_numpy(one_iso_muon.NMuon), bins=nbins, range=(0,xmax))\n",
    "center = (b[:-1] + b[1:]) / 2\n",
    "yerrs = np.sqrt(n)\n",
    "\n",
    "plt.errorbar(\n",
    "    center, \n",
    "    n, \n",
    "    yerr=yerrs, \n",
    "    linestyle='None', \n",
    "    color='black', \n",
    "    marker='o', \n",
    "    label='data'\n",
    ")\n",
    "\n",
    "\n",
    "plt.xlabel('# muons')\n",
    "plt.yscale('log')\n",
    "plt.legend(loc=\"upper right\")\n",
    "plt.show()"
   ]
  },
  {
   "cell_type": "code",
   "execution_count": 21,
   "metadata": {},
   "outputs": [
    {
     "data": {
      "image/png": "[encoded data removed]",
      "text/plain": [
       "<Figure size 432x288 with 1 Axes>"
      ]
     },
     "metadata": {
      "needs_background": "light"
     },
     "output_type": "display_data"
    }
   ],
   "source": [
    "muon_iso = [ak.to_list(ak.flatten(mc[n].Muon.Iso)) for n in mc]\n",
    "\n",
    "# There may be more than one muon in the event and when the isolation\n",
    "# list is flattened the associated event weight must be associated to it.\n",
    "# Therefore repeat the weight value according to the number of muons:\n",
    "\n",
    "weights = [\n",
    "    ak.to_list(\n",
    "        np.repeat(\n",
    "            ak.to_list(mc[n].EventWeight), \n",
    "            ak.to_list(ak.count(mc[n].Muon.Iso, axis=1))\n",
    "        )) for n in mc\n",
    "]\n",
    "\n",
    "nbins = 25\n",
    "xmax = 25\n",
    "\n",
    "plt.hist(\n",
    "    muon_iso, \n",
    "    bins=nbins, \n",
    "    range=(0,xmax), \n",
    "    histtype='stepfilled', \n",
    "    weights=weights, \n",
    "    color=colors, \n",
    "    alpha=0.5,\n",
    "    stacked=True,\n",
    "    label=labels\n",
    ")\n",
    "\n",
    "n,b = np.histogram(ak.to_numpy(ak.flatten(one_iso_muon.Muon.Iso)), bins=nbins, range=(0,xmax))\n",
    "center = (b[:-1] + b[1:]) / 2\n",
    "yerrs = np.sqrt(n)\n",
    "\n",
    "plt.errorbar(\n",
    "    center, \n",
    "    n, \n",
    "    yerr=yerrs, \n",
    "    linestyle='None', \n",
    "    color='black', \n",
    "    marker='o', \n",
    "    label='data'\n",
    ")\n",
    "\n",
    "plt.xlabel('muon iso')\n",
    "plt.yscale('log')\n",
    "plt.legend(loc=\"upper right\")\n",
    "plt.show()"
   ]
  },
  {
   "cell_type": "code",
   "execution_count": 22,
   "metadata": {},
   "outputs": [
    {
     "data": {
      "image/png": "[encoded data removed]",
      "text/plain": [
       "<Figure size 432x288 with 1 Axes>"
      ]
     },
     "metadata": {
      "needs_background": "light"
     },
     "output_type": "display_data"
    }
   ],
   "source": [
    "nelectrons = [ak.to_numpy(mc[n].NElectron) for n in mc]\n",
    "weights = [ak.to_numpy(mc[n].EventWeight) for n in mc]\n",
    "\n",
    "nbins = 6\n",
    "xmax = 6\n",
    "\n",
    "plt.hist(\n",
    "    nelectrons, \n",
    "    bins=nbins, \n",
    "    range=(0,xmax), \n",
    "    histtype='stepfilled', \n",
    "    weights=weights, \n",
    "    color=colors, \n",
    "    alpha=0.5,\n",
    "    stacked=True,\n",
    "    label=labels\n",
    ")\n",
    "\n",
    "n,b = np.histogram(ak.to_numpy(one_iso_muon.NElectron), bins=nbins, range=(0,xmax))\n",
    "center = (b[:-1] + b[1:]) / 2\n",
    "yerrs = np.sqrt(n)\n",
    "\n",
    "plt.errorbar(\n",
    "    center, \n",
    "    n, \n",
    "    yerr=yerrs, \n",
    "    linestyle='None', \n",
    "    color='black', \n",
    "    marker='o', \n",
    "    label='data'\n",
    ")\n",
    "\n",
    "plt.xlabel('# electrons')\n",
    "plt.yscale('log')\n",
    "plt.legend(loc=\"upper right\")\n",
    "plt.show()"
   ]
  },
  {
   "cell_type": "code",
   "execution_count": 23,
   "metadata": {},
   "outputs": [
    {
     "data": {
      "image/png": "[encoded data removed]",
      "text/plain": [
       "<Figure size 432x288 with 1 Axes>"
      ]
     },
     "metadata": {
      "needs_background": "light"
     },
     "output_type": "display_data"
    }
   ],
   "source": [
    "npvs = [ak.to_numpy(mc[n].NPrimaryVertices) for n in mc]\n",
    "weights = [ak.to_numpy(mc[n].EventWeight) for n in mc]\n",
    "\n",
    "nbins = 25\n",
    "xmax = 25\n",
    "\n",
    "plt.hist(\n",
    "    npvs, \n",
    "    bins=nbins, \n",
    "    range=(0,xmax), \n",
    "    histtype='stepfilled', \n",
    "    weights=weights, \n",
    "    color=colors, \n",
    "    alpha=0.5,\n",
    "    stacked=True,\n",
    "    label=labels\n",
    ")\n",
    "\n",
    "n,b = np.histogram(ak.to_numpy(one_iso_muon.NPrimaryVertices), bins=nbins, range=(0,xmax))\n",
    "center = (b[:-1] + b[1:]) / 2\n",
    "yerrs = np.sqrt(n)\n",
    "\n",
    "plt.errorbar(\n",
    "    center, \n",
    "    n, \n",
    "    yerr=yerrs, \n",
    "    linestyle='None', \n",
    "    color='black', \n",
    "    marker='o', \n",
    "    label='data'\n",
    ")\n",
    "\n",
    "plt.xlabel('# PVs')\n",
    "plt.yscale('log')\n",
    "plt.legend(loc=\"upper right\")\n",
    "plt.show()"
   ]
  },
  {
   "cell_type": "code",
   "execution_count": 24,
   "metadata": {},
   "outputs": [
    {
     "data": {
      "image/png": "[encoded data removed]",
      "text/plain": [
       "<Figure size 432x288 with 1 Axes>"
      ]
     },
     "metadata": {
      "needs_background": "light"
     },
     "output_type": "display_data"
    }
   ],
   "source": [
    "njets = [ak.to_numpy(mc[n].NJet) for n in mc]\n",
    "weights = [ak.to_numpy(mc[n].EventWeight) for n in mc]\n",
    "\n",
    "nbins = 7\n",
    "xmax = 7\n",
    "\n",
    "plt.hist(\n",
    "    njets, \n",
    "    bins=nbins, \n",
    "    range=(0,xmax), \n",
    "    histtype='stepfilled', \n",
    "    weights=weights, \n",
    "    color=colors, \n",
    "    alpha=0.5,\n",
    "    stacked=True,\n",
    "    label=labels\n",
    ")\n",
    "\n",
    "n,b = np.histogram(ak.to_numpy(one_iso_muon.NJet), bins=nbins, range=(0,xmax))\n",
    "center = (b[:-1] + b[1:]) / 2\n",
    "yerrs = np.sqrt(n)\n",
    "\n",
    "plt.errorbar(\n",
    "    center, \n",
    "    n, \n",
    "    yerr=yerrs, \n",
    "    linestyle='None', \n",
    "    color='black', \n",
    "    marker='o', \n",
    "    label='data'\n",
    ")\n",
    "\n",
    "plt.xlabel('# jets')\n",
    "plt.yscale('log')\n",
    "plt.legend(loc=\"upper right\")\n",
    "plt.show()"
   ]
  },
  {
   "cell_type": "code",
   "execution_count": 25,
   "metadata": {},
   "outputs": [
    {
     "data": {
      "image/png": "[encoded data removed]",
      "text/plain": [
       "<Figure size 864x864 with 7 Axes>"
      ]
     },
     "metadata": {
      "needs_background": "light"
     },
     "output_type": "display_data"
    }
   ],
   "source": [
    "fig = plt.figure(figsize=(12, 12))\n",
    "\n",
    "for i,n in enumerate(mc):\n",
    "    \n",
    "    ax = plt.subplot(4,4,i+1)\n",
    "    \n",
    "    plt.hist(\n",
    "        mc[n][ak.any(mc[n].Jet.btag > 1.74, axis=1)].NJet, \n",
    "        histtype='stepfilled',\n",
    "        log=False,\n",
    "        bins=6,\n",
    "        weights=mc[n][ak.any(mc[n].Jet.btag > 1.74, axis=1)].EventWeight, \n",
    "        range=(0,6),\n",
    "        color=colors[i],\n",
    "        alpha=0.5,\n",
    "    ) \n",
    "\n",
    "    plt.xlabel('# btagged jets')\n",
    "    plt.legend([n])\n",
    "\n",
    "plt.tight_layout()"
   ]
  },
  {
   "cell_type": "code",
   "execution_count": 26,
   "metadata": {},
   "outputs": [
    {
     "data": {
      "image/png": "[encoded data removed]",
      "text/plain": [
       "<Figure size 432x288 with 1 Axes>"
      ]
     },
     "metadata": {
      "needs_background": "light"
     },
     "output_type": "display_data"
    }
   ],
   "source": [
    "nbjets = [ak.to_numpy(mc[n][ak.any(mc[n].Jet.btag > 1.74, axis=1)].NJet) for n in mc]\n",
    "weights = [ak.to_numpy(mc[n][ak.any(mc[n].Jet.btag > 1.74, axis=1)].EventWeight) for n in mc]\n",
    "\n",
    "nbins = 7\n",
    "xmax = 7\n",
    "\n",
    "plt.hist(\n",
    "    nbjets, \n",
    "    bins=nbins, \n",
    "    range=(0,xmax), \n",
    "    histtype='stepfilled', \n",
    "    weights=weights, \n",
    "    color=colors, \n",
    "    alpha=0.5,\n",
    "    stacked=True,\n",
    "    label=labels\n",
    ")\n",
    "\n",
    "btagged = ak.any(\n",
    "    one_iso_muon.Jet.btag > 1.74,\n",
    "    axis=1\n",
    ")\n",
    "\n",
    "n,b = np.histogram(\n",
    "    ak.to_numpy(\n",
    "        one_iso_muon[btagged].NJet\n",
    "    ), \n",
    "    bins=nbins, \n",
    "    range=(0,xmax)\n",
    ")\n",
    "center = (b[:-1] + b[1:]) / 2\n",
    "yerrs = np.sqrt(n)\n",
    "\n",
    "plt.errorbar(\n",
    "    center, \n",
    "    n, \n",
    "    yerr=yerrs, \n",
    "    linestyle='None', \n",
    "    color='black', \n",
    "    marker='o', \n",
    "    label='data'\n",
    ")\n",
    "\n",
    "plt.xlabel('# bjets')\n",
    "plt.yscale('log')\n",
    "plt.legend(loc=\"upper right\")\n",
    "plt.show()"
   ]
  },
  {
   "cell_type": "code",
   "execution_count": 27,
   "metadata": {
    "scrolled": true
   },
   "outputs": [
    {
     "data": {
      "image/png": "[encoded data removed]",
      "text/plain": [
       "<Figure size 432x288 with 1 Axes>"
      ]
     },
     "metadata": {
      "needs_background": "light"
     },
     "output_type": "display_data"
    }
   ],
   "source": [
    "met = [ak.to_numpy(mc[n].MET) for n in mc]\n",
    "weights = [ak.to_numpy(mc[n].EventWeight) for n in mc]\n",
    "\n",
    "nbins = 30\n",
    "xmax = 300\n",
    "\n",
    "plt.hist(\n",
    "    met, \n",
    "    bins=nbins, \n",
    "    range=(0,xmax), \n",
    "    histtype='stepfilled', \n",
    "    weights=weights, \n",
    "    color=colors, \n",
    "    alpha=0.5,\n",
    "    stacked=True,\n",
    "    label=labels\n",
    ")\n",
    "\n",
    "n,b = np.histogram(ak.to_numpy(one_iso_muon.MET), bins=nbins, range=(0,xmax))\n",
    "center = (b[:-1] + b[1:]) / 2\n",
    "yerrs = np.sqrt(n)\n",
    "\n",
    "plt.errorbar(\n",
    "    center, \n",
    "    n, \n",
    "    yerr=yerrs, \n",
    "    linestyle='None', \n",
    "    color='black', \n",
    "    marker='o', \n",
    "    label='data'\n",
    ")\n",
    "\n",
    "plt.xlabel('MET')\n",
    "plt.yscale('log')\n",
    "plt.legend(loc=\"upper right\")\n",
    "plt.show()"
   ]
  },
  {
   "cell_type": "code",
   "execution_count": 28,
   "metadata": {},
   "outputs": [
    {
     "data": {
      "image/png": "[encoded data removed]",
      "text/plain": [
       "<Figure size 864x864 with 7 Axes>"
      ]
     },
     "metadata": {
      "needs_background": "light"
     },
     "output_type": "display_data"
    }
   ],
   "source": [
    "fig = plt.figure(figsize=(12, 12))\n",
    "\n",
    "for i,n in enumerate(mc):\n",
    "    \n",
    "    ax = plt.subplot(4,4,i+1)\n",
    "    \n",
    "    plt.hist(\n",
    "        ak.flatten(mc[n].Muon.Pt), \n",
    "        histtype='stepfilled',\n",
    "        log=True,\n",
    "        color=colors[i],\n",
    "        alpha=0.5,\n",
    "    ) \n",
    "\n",
    "    plt.xlabel('muon $p_{t}$ [GeV]')\n",
    "    plt.legend([n])\n",
    "\n",
    "plt.tight_layout()"
   ]
  },
  {
   "cell_type": "markdown",
   "metadata": {},
   "source": [
    "*  Apply cuts on these variables to enrich the signal over background. Try to optimize the signal over background ratio and estimate the purity that can be achieved (based on simulation only).\n",
    "\n",
    "*  Apply your selection cuts also on data. Compare the selection efficiency between data and simulation."
   ]
  },
  {
   "cell_type": "code",
   "execution_count": 29,
   "metadata": {},
   "outputs": [
    {
     "name": "stdout",
     "output_type": "stream",
     "text": [
      "tt:759.6817626953125\n",
      "wjets:4905.06787109375\n",
      "dy:799.634765625\n",
      "ww:52.22441864013672\n",
      "zz:2.686830997467041\n",
      "single_top:167.97291564941406\n",
      "qcd:1353.189697265625\n",
      "total:8040.458261966705\n"
     ]
    }
   ],
   "source": [
    "'''\n",
    "We want events with:\n",
    "* One isolated muon with pt > 25 GeV\n",
    "* More than one b-jet\n",
    "'''\n",
    "\n",
    "n_bjet = 1\n",
    "n_muons = 1\n",
    "\n",
    "selected_mc = mc.copy()\n",
    "\n",
    "for n in selected_mc:\n",
    "    \n",
    "    selected_mc[n] = selected_mc[n][ \n",
    "        (selected_mc[n].NMuon == n_muons) &\n",
    "        (ak.num(selected_mc[n].Jet.btag > 1.74, axis=1) > 1)\n",
    "    ]\n",
    "        \n",
    "n_events = 0\n",
    "        \n",
    "for n in selected_mc:\n",
    "    \n",
    "    ne = np.sum(selected_mc[n].EventWeight)\n",
    "    n_events += ne\n",
    "    print(f'{n}:{ne}')\n",
    "    \n",
    "print(f'total:{n_events}')"
   ]
  },
  {
   "cell_type": "markdown",
   "metadata": {},
   "source": [
    "## 3. Cross-section of top quark production\n",
    "In this exercise we will calculate the cross-section of top quark pair production at the LHC. The\n",
    "necessary ingredients are developed step by step.\n",
    "\n",
    "* The first ingredient is the trigger efficiency $\\epsilon^{trig}$ . We can trust the MC simulation to reproduce this efficiency correctly. Produce the trigger “turn-on” curve which shows the trigger efficiency depending on the muon transverse momentum $p_T$. Calculate the efficiency of triggering top quark events with a reconstructed and isolated muon of $p_T$ > 25 GeV?"
   ]
  },
  {
   "cell_type": "code",
   "execution_count": 30,
   "metadata": {},
   "outputs": [
    {
     "data": {
      "image/png": "[encoded data removed]",
      "text/plain": [
       "<Figure size 432x288 with 1 Axes>"
      ]
     },
     "metadata": {
      "needs_background": "light"
     },
     "output_type": "display_data"
    }
   ],
   "source": [
    "tt_mc = ttbar.arrays(library='ak', how='zip')\n",
    "tt_mc['Muon', 'Pt'] = np.sqrt(tt_mc.Muon.Px**2 + tt_mc.Muon.Py**2)\n",
    "\n",
    "# Get events with one isolated muon with pt > 25 GeV\n",
    "tt_mc = tt_mc[ak.any(((tt_mc.Muon.Iso / tt_mc.Muon.Pt) < muon_reliso_cut), axis=1)]\n",
    "tt_mc = tt_mc[(tt_mc.NMuon == 1) & ak.all(tt_mc.Muon.Pt > 25, axis=1)]\n",
    "\n",
    "weights = ak.to_numpy(tt_mc.EventWeight)\n",
    "\n",
    "nbins = 20\n",
    "xmax = 200\n",
    "\n",
    "n_total, b,_ = plt.hist(\n",
    "    ak.to_numpy(tt_mc.Muon.Pt),\n",
    "    bins=nbins,\n",
    "    range=(0,xmax),\n",
    "    weights=weights,\n",
    "    histtype='step'\n",
    ")\n",
    "\n",
    "plt.xlabel('pt [GeV]')\n",
    "plt.yscale('log')\n",
    "plt.show()"
   ]
  },
  {
   "cell_type": "code",
   "execution_count": 31,
   "metadata": {},
   "outputs": [
    {
     "data": {
      "image/png": "[encoded data removed]",
      "text/plain": [
       "<Figure size 432x288 with 1 Axes>"
      ]
     },
     "metadata": {
      "needs_background": "light"
     },
     "output_type": "display_data"
    }
   ],
   "source": [
    "tt_mc_triggered = tt_mc[tt_mc.triggerIsoMu24]\n",
    "weights = ak.to_numpy(tt_mc_triggered.EventWeight)\n",
    "\n",
    "n_triggered, b,_ = plt.hist(\n",
    "    ak.to_numpy(tt_mc_triggered.Muon.Pt),\n",
    "    bins=nbins,\n",
    "    range=(0,xmax),\n",
    "    weights=weights,\n",
    "    histtype='step'\n",
    ")\n",
    "\n",
    "plt.xlabel('pt [GeV]')\n",
    "plt.yscale('log')\n",
    "plt.show()"
   ]
  },
  {
   "cell_type": "code",
   "execution_count": 32,
   "metadata": {
    "scrolled": false
   },
   "outputs": [
    {
     "name": "stderr",
     "output_type": "stream",
     "text": [
      "<ipython-input-32-5e1f4ce5edcb>:2: RuntimeWarning: invalid value encountered in true_divide\n",
      "  n = np.nan_to_num(n_triggered/n_total)\n"
     ]
    },
    {
     "data": {
      "text/plain": [
       "Text(0, 0.5, 'trigger eff')"
      ]
     },
     "execution_count": 32,
     "metadata": {},
     "output_type": "execute_result"
    },
    {
     "data": {
      "image/png": "[encoded data removed]",
      "text/plain": [
       "<Figure size 432x288 with 1 Axes>"
      ]
     },
     "metadata": {
      "needs_background": "light"
     },
     "output_type": "display_data"
    }
   ],
   "source": [
    "center = (b[:-1] + b[1:]) / 2\n",
    "n = np.nan_to_num(n_triggered/n_total)\n",
    "\n",
    "plt.errorbar(\n",
    "    center, \n",
    "    n, \n",
    "    linestyle='None', \n",
    "    color='black', \n",
    "    marker='o', \n",
    ")\n",
    "\n",
    "plt.xlabel('pt [GeV]')\n",
    "plt.ylabel('trigger eff')"
   ]
  },
  {
   "cell_type": "markdown",
   "metadata": {},
   "source": [
    "* The second ingredient is the acceptance $\\epsilon^{acc}$ (not including the trigger). This includes the fact that we only select semi-leptonic top quark decays with muons. The branching fraction is well known, so we can take it from simulation. In addition, the acceptance includes all the selection cuts that have been found in Exercise 2. You can calculate the acceptance by comparing the number of generated top quark events with the number of selected events, after all your cuts.\n",
    "\n",
    "* background subtraction: we also trust the simulation to correctly predict the number of back-ground events after selection. Subtract the expected background from the observed (selected) data events.\n",
    "\n",
    "* You can calculate the cross section now using the purity corrected observed events in data $N^{obs}_{data} X purity$. You have to apply corrections for trigger efficiency  $\\epsilon^{trig}$ and acceptance $\\epsilon^{acc}$\n",
    "\n",
    "* Compare your result with official publications of the ATLAS and CMS Collaborations."
   ]
  },
  {
   "cell_type": "markdown",
   "metadata": {},
   "source": [
    "## 4. Top quark mass reconstruction\n",
    "\n",
    "In this exercise we will reconstruct the fourvectors of the top quarks by assigning the detector objects\n",
    "(jets, leptons, missing energy) to the hypothetical $t\\bar{t}$ decay tree. As we only consider semi-leptonic\n",
    "decays with muons in the final state, we expect four jets, one muon plus missing energy in the final\n",
    "state. Two of the four jets are b-jets (b-tagged).\n",
    "\n",
    "* What is the mass of the top quark in MC simulation (in $t\\bar{t}$ events)? Use the generator-level truth information to calculate the top quark four-vector in the hadronic and leptonic branch.\n",
    "\n",
    "* As a next step try to use detector objects only. Find out which (not b-tagged) jets come from the hadronic W boson decay using the W boson mass.\n",
    "\n",
    "* Combine this W boson with a b-jet. As there are two b-jets, simply use both solutions, and fill the reconstructed top quark mass in histograms, comparing data to simulation.\n",
    "\n",
    "* Reconstruct the top quark from the leptonic branch as well. The z-component of the neutrino is not measured, as we only have transverse missing energy. You can calculate the z-component using a W mass constraint (two solutions)."
   ]
  },
  {
   "cell_type": "code",
   "execution_count": null,
   "metadata": {},
   "outputs": [],
   "source": []
  }
 ],
 "metadata": {
  "kernelspec": {
   "display_name": "Python 3",
   "language": "python",
   "name": "python3"
  },
  "language_info": {
   "codemirror_mode": {
    "name": "ipython",
    "version": 3
   },
   "file_extension": ".py",
   "mimetype": "text/x-python",
   "name": "python",
   "nbconvert_exporter": "python",
   "pygments_lexer": "ipython3",
   "version": "3.8.3"
  }
 },
 "nbformat": 4,
 "nbformat_minor": 4
}
